{
 "cells": [
  {
   "cell_type": "code",
   "execution_count": 1,
   "id": "37803c5f-1b72-4240-9c5a-0da145df1649",
   "metadata": {},
   "outputs": [],
   "source": [
    "import os\n",
    "os.environ[\"OPEN_API_KEY\"]=\"MyKey\""
   ]
  },
  {
   "cell_type": "code",
   "execution_count": 2,
   "id": "7ab38171-1923-40fe-8fee-c1006696558a",
   "metadata": {},
   "outputs": [],
   "source": [
    "#echo \"OPENAI_API_KEY=mykey\" > .env\n",
    "#from dotenv import load_dotenv\n",
    "#load_dotenv()"
   ]
  },
  {
   "cell_type": "code",
   "execution_count": null,
   "id": "f13d8bab-4a28-4548-a463-f18c77e73612",
   "metadata": {},
   "outputs": [],
   "source": []
  }
 ],
 "metadata": {
  "kernelspec": {
   "display_name": "Python 3 (ipykernel)",
   "language": "python",
   "name": "python3"
  },
  "language_info": {
   "codemirror_mode": {
    "name": "ipython",
    "version": 3
   },
   "file_extension": ".py",
   "mimetype": "text/x-python",
   "name": "python",
   "nbconvert_exporter": "python",
   "pygments_lexer": "ipython3",
   "version": "3.13.3"
  }
 },
 "nbformat": 4,
 "nbformat_minor": 5
}
